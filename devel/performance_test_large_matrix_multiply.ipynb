{
 "cells": [
  {
   "cell_type": "markdown",
   "id": "d80c2710",
   "metadata": {},
   "source": [
    "# Performance Tests of Matrix Multiply Algorithms"
   ]
  },
  {
   "cell_type": "markdown",
   "id": "1100dba8",
   "metadata": {},
   "source": [
    "The point of this notebook is to test different matrix-multiply algorithms for doing the vis-cpu algorithm's $V = ZZ^\\dagger$. In this notebook, we don't care about _how_ we got $Z$, only that it is complex-valued, and its shape is supposed to be $N_{\\rm feed} N_{\\rm ant} \\times N_{\\rm ax} N_{\\rm src}$, which is generally _very_ non-square. \n",
    "\n",
    "We define a number of methods that compute $V$, and test their performance on different shapes of $Z$."
   ]
  },
  {
   "cell_type": "code",
   "execution_count": null,
   "id": "31f6b315",
   "metadata": {
    "ExecuteTime": {
     "end_time": "2023-03-11T23:58:52.927596Z",
     "start_time": "2023-03-11T23:58:52.814891Z"
    }
   },
   "outputs": [],
   "source": [
    "from scipy.linalg import blas\n",
    "import numpy as np\n",
    "import matplotlib.pyplot as plt\n",
    "import time\n",
    "from dataclasses import dataclass, asdict\n",
    "import yaml\n",
    "from pathlib import Path\n",
    "\n",
    "try:\n",
    "    import pycuda.autoinit\n",
    "    from pycuda import cumath as cm\n",
    "    from pycuda import driver, gpuarray\n",
    "    from skcuda.cublas import (\n",
    "        cublasCreate,\n",
    "        cublasDestroy,\n",
    "        cublasZgemm,\n",
    "        cublasZherk,\n",
    "        cublasZdotc,\n",
    "        cublasCgemm,\n",
    "        cublasCherk,\n",
    "        cublasCdotc,\n",
    "    )\n",
    "    HAVE_PYCUDA = True \n",
    "except:\n",
    "    HAVE_PYCUDA = False\n",
    "\n",
    "try:\n",
    "    import jax.numpy as jnp\n",
    "    HAVE_JAX = True\n",
    "except ImportError:\n",
    "    HAVE_JAX = False\n",
    "\n",
    "try:\n",
    "    import arrayfire\n",
    "    HAVE_AF = True\n",
    "except:\n",
    "    HAVE_AF = False\n",
    "\n",
    "try:\n",
    "    import numba\n",
    "    HAVE_NUMBA = True\n",
    "except:\n",
    "    HAVE_NUMBA = False\n",
    "\n",
    "\n",
    "print(\"Running Performance Tests with the following libraries:\")\n",
    "print(\"pycuda/cublas: \", HAVE_PYCUDA)\n",
    "print(\"          jax: \", HAVE_JAX)\n",
    "print(\"    arrayfire: \", HAVE_AF)\n",
    "print(\"        numba: \", HAVE_NUMBA)\n"
   ]
  },
  {
   "cell_type": "code",
   "execution_count": null,
   "id": "58e47f8c",
   "metadata": {
    "ExecuteTime": {
     "end_time": "2023-03-11T23:56:53.165486Z",
     "start_time": "2023-03-11T23:56:53.161005Z"
    }
   },
   "outputs": [],
   "source": [
    "if HAVE_PYCUDA:\n",
    "    h = cublasCreate()"
   ]
  },
  {
   "cell_type": "code",
   "execution_count": null,
   "id": "c9ca126a-64fc-4f46-b84f-20c52e1a90da",
   "metadata": {
    "tags": [
     "parameters"
    ]
   },
   "outputs": [],
   "source": [
    "repeats: int = 1\n",
    "rerun: bool = False\n",
    "precision: int = 1\n",
    "nants_redundant: int = 350\n",
    "max_nants: int = np.inf\n",
    "max_nsrcs: int = np.inf"
   ]
  },
  {
   "cell_type": "code",
   "execution_count": null,
   "id": "474ceb24",
   "metadata": {},
   "outputs": [],
   "source": [
    "if precision==1:\n",
    "    cublas_gemm = cublasCgemm\n",
    "    cublas_herk = cublasCherk\n",
    "    cublas_dotc = cublasCdotc\n",
    "    rtype = np.float32\n",
    "    ctype = np.complex64\n",
    "else:\n",
    "    cublas_gemm = cublasZgemm\n",
    "    cublas_herk = cublasZherk\n",
    "    cublas_dotc = cublasZdotc\n",
    "    rtype = float\n",
    "    ctype = complex"
   ]
  },
  {
   "cell_type": "markdown",
   "id": "6d508e80-aeb0-4f03-92c2-a580f3921ed0",
   "metadata": {},
   "source": [
    "## Plotting Functions"
   ]
  },
  {
   "cell_type": "code",
   "execution_count": null,
   "id": "e1459e2b-6f80-435f-b7d6-ab415f7743f1",
   "metadata": {},
   "outputs": [],
   "source": [
    "def plot_timings(timings: dict[str, dict[tuple[int, int], \"TimeResult\"]]):\n",
    "    fig, ax = plt.subplots(2, max(len(nants), len(nsrcs)), figsize=(15, 8), constrained_layout=True)\n",
    "\n",
    "    for i, (nside, nsrc) in enumerate(zip(nsides, nsrcs)):\n",
    "        for j, (method, results) in enumerate(timings.items()):\n",
    "            ax[0, i].plot(nants, [results[(n, nside)].best for n in nants], color=f'C{j}', label=method)\n",
    "            \n",
    "        ax[0, i].set_title(f\"Nside={nside}\")\n",
    "        ax[0, i].set_xlabel(\"Nants x Nfeeds\")\n",
    "        ax[0, 0].set_ylabel(\"Time [sec]\")\n",
    "        ax[0, i].plot(nants, np.array(nants) * (results[(np.max(nants), nside)].best/np.max(nants)), ls='--', color='k')\n",
    "        \n",
    "        ax[0, i].set_xscale('log')\n",
    "        ax[0, i].set_yscale('log')\n",
    "    \n",
    "    for j in range(i+1, ax.shape[1]):\n",
    "        ax[0, j].axis('off')\n",
    "        \n",
    "        \n",
    "    for i, nant in enumerate(nants):\n",
    "        for j, (method, results) in enumerate(timings.items()):\n",
    "            ax[1, i].plot(nsrcs, [results[(nant, n)].best for n in nsides], color=f'C{j}')\n",
    "\n",
    "        ax[1,i].set_title(f\"Nant x Nfeed={nant}\")\n",
    "        ax[1,i].set_xlabel(\"nsrc\")\n",
    "        ax[1, i].set_xscale('log')\n",
    "        ax[1, i].set_yscale('log')\n",
    "        ax[1, i].plot(nsrcs, np.array(nsrcs) * (results[(nant, np.max(nsides))].best/np.max(nsrcs)), ls='--', color='k')\n",
    "    \n",
    "    ax[0,0].legend(frameon=False, ncols=2)\n",
    "    return fig, ax"
   ]
  },
  {
   "cell_type": "markdown",
   "id": "3ae38109",
   "metadata": {},
   "source": [
    "## Make Test Arrays"
   ]
  },
  {
   "cell_type": "code",
   "execution_count": null,
   "id": "91f49fdf",
   "metadata": {
    "ExecuteTime": {
     "end_time": "2023-03-11T23:59:25.853724Z",
     "start_time": "2023-03-11T23:59:13.956196Z"
    }
   },
   "outputs": [],
   "source": [
    "def getz(shape):\n",
    "    return (\n",
    "        np.random.random(shape) + \n",
    "        np.random.random(shape)*1j\n",
    "    ).astype(ctype)\n",
    "\n",
    "# Note that \"nants\" here represents Nants * Nfeed, which is why we \n",
    "# go to double the number of ants that HERA has.\n",
    "nants = (100, 200, 400, 700)\n",
    "nants = [nant for nant in nants if nant <= max_nants]\n",
    "\n",
    "nsides = [32, 64, 128, 256]\n",
    "nsides = [nside for nside in nsides if nside <= max_nsrcs]\n",
    "nsrcs = [2 * 12 * nside**2 for nside in nsides]\n",
    "\n",
    "z = {}\n",
    "for nant in nants:\n",
    "    for nsrc, nside in zip(nsrcs, nsides):\n",
    "        z[(nant, nside)] = getz((nant, nsrc))"
   ]
  },
  {
   "cell_type": "markdown",
   "id": "89f69d4d-6dcb-4b2b-afb1-db57174b5fab",
   "metadata": {},
   "source": [
    "Use the smallest array as a test"
   ]
  },
  {
   "cell_type": "code",
   "execution_count": null,
   "id": "47990a53",
   "metadata": {
    "ExecuteTime": {
     "end_time": "2023-03-11T23:59:26.744576Z",
     "start_time": "2023-03-11T23:59:26.722326Z"
    }
   },
   "outputs": [],
   "source": [
    "z0 = z[(nants[0], nsides[0])]\n",
    "v0 = np.dot(z0, z0.conj().T)"
   ]
  },
  {
   "cell_type": "markdown",
   "id": "3011052a-34ea-4d6a-b7ec-dbb81109ebac",
   "metadata": {},
   "source": [
    "## Scaffolding for methods"
   ]
  },
  {
   "cell_type": "code",
   "execution_count": null,
   "id": "81e2e7b8-3a06-45c6-8cd6-973e56b6284f",
   "metadata": {},
   "outputs": [],
   "source": [
    "class Solver:\n",
    "    def __init__(self, z: np.ndarray):\n",
    "        self._z = z.copy()\n",
    "        \n",
    "    def setup(self):\n",
    "        self.z = self._z\n",
    "    \n",
    "    def compute(self):\n",
    "        pass\n",
    "    \n",
    "    def __call__(self):\n",
    "        self.setup()\n",
    "        return self.compute()\n",
    "    \n",
    "    @classmethod\n",
    "    def test(cls, rtol=1e-5 if precision==2 else 1e-3, atol=1e-5 if precision==2 else 1e-3):\n",
    "        obj = cls(z0)\n",
    "        result = obj()\n",
    "        np.testing.assert_allclose(np.triu(result), np.triu(v0), rtol=rtol, atol=atol)\n",
    "        \n",
    "class RedundantSolver:\n",
    "    def __init__(self, z: np.ndarray, pairs: np.ndarray):\n",
    "        self._z = z.copy()\n",
    "        self.pairs = pairs\n",
    "        \n",
    "    def setup(self):\n",
    "        self.z = self._z\n",
    "    \n",
    "    def compute(self):\n",
    "        pass\n",
    "    \n",
    "    def __call__(self):\n",
    "        self.setup()\n",
    "        return self.compute()\n",
    "    \n",
    "    @classmethod\n",
    "    def test(cls, rtol=1e-5 if precision==2 else 1e-3, atol=1e-5 if precision==2 else 1e-3):\n",
    "        # All the pairs.\n",
    "        nant = z0.shape[0]\n",
    "        pairs = np.array([(a, b) for a in range(nant) for b in range(nant)])\n",
    "        obj = cls(z0, pairs)\n",
    "        result = obj()\n",
    "        np.testing.assert_allclose(np.triu(result.reshape((nant, nant))), np.triu(v0), rtol=rtol, atol=atol)\n",
    "    "
   ]
  },
  {
   "cell_type": "code",
   "execution_count": null,
   "id": "e18d0954-6520-4d7a-971d-9370d4b89989",
   "metadata": {},
   "outputs": [],
   "source": [
    "@dataclass\n",
    "class TimeResult:\n",
    "    times: list[float]\n",
    "    n: int\n",
    "    \n",
    "    @property\n",
    "    def best(self):\n",
    "        return np.min(self.times)\n",
    "    \n",
    "    @property\n",
    "    def mean(self):\n",
    "        return np.mean(self.times)\n",
    "    \n",
    "    @property\n",
    "    def repeats(self):\n",
    "        return len(self.times)\n",
    "    \n",
    "    @property\n",
    "    def std(self):\n",
    "        return np.std(self.times)\n",
    "    \n",
    "def get_timing(sln, repeats: int = repeats) -> float:\n",
    "    sln.setup()\n",
    "    \n",
    "    t0 = time.time()\n",
    "    sln.compute()\n",
    "    t1 = time.time() - t0\n",
    "\n",
    "    times = []\n",
    "    \n",
    "    if t1 > 2: # assume overhead from compilation etc. is negligible compared to 5sec\n",
    "        times.append(t1)\n",
    "        n = 1\n",
    "        \n",
    "    if repeats > len(times):\n",
    "        # Need to do it at least twice to check if the time comes down.\n",
    "        \n",
    "        if t1 < 2:\n",
    "            t0 = time.time()\n",
    "            sln.compute()\n",
    "            t2 = time.time() - t0\n",
    "\n",
    "            n = int(2 / t2) + 1\n",
    "        \n",
    "            if t2 > 2:\n",
    "                times.append(t2)\n",
    "            \n",
    "        if n == 1:\n",
    "            for _ in range(max(0, repeats - len(times))):\n",
    "                t0 = time.time()\n",
    "                sln.compute()\n",
    "                times.append(time.time() - t0)\n",
    "\n",
    "        else:\n",
    "            for _ in range(repeats):\n",
    "                t0 = time.time()\n",
    "                for _ in range(n):\n",
    "                    sln.compute()\n",
    "                times.append((time.time() - t0)/n)\n",
    "\n",
    "    return TimeResult(times, n)\n",
    "\n",
    "def get_timings(solver, repeats: int=repeats, rerun: bool = rerun) -> dict[tuple[int, int], float]:\n",
    "    out = {}\n",
    "    \n",
    "    # First, test the solver.\n",
    "    solver.test()\n",
    "    \n",
    "    for size, zz in z.items():\n",
    "        print(size, end=': ')\n",
    "        \n",
    "        pth = Path(f\"{solver.__name__}_{size[0]}x{size[1]}.yaml\")\n",
    "        if not rerun and pth.exists():\n",
    "            with open(pth, 'r') as fl:\n",
    "                o = out[size] = TimeResult(**yaml.safe_load(fl))\n",
    "        else:\n",
    "            sln = solver(zz)\n",
    "            \n",
    "            o = out[size] = get_timing(sln)\n",
    "            del sln  # Ensure memory is freed.\n",
    "            \n",
    "        print(f\"{o.mean:1.3e}s ± {o.std:1.3e}s [{o.repeats} loops of {o.n}]\")\n",
    "        \n",
    "        # Cache it\n",
    "        with open(pth, 'w') as fl:\n",
    "            yaml.dump(asdict(o), fl)\n",
    "            \n",
    "    return out\n",
    "\n",
    "def get_timings_red(solver, repeats: int=repeats, rerun: bool = rerun) -> dict[tuple[int, int], float]:\n",
    "    out = {}\n",
    "    \n",
    "    # First, test the solver.\n",
    "    solver.test()\n",
    "    \n",
    "    for redfrac, p in pairs.items():\n",
    "        for (nside, nsrc) in zip(nsides, nsrcs):\n",
    "            size = (redfrac, nside)\n",
    "            print(size, end=': ')\n",
    "        \n",
    "            pth = Path(f\"{solver.__name__}_{size[0]}x{size[1]}.yaml\")\n",
    "            if not rerun and pth.exists():\n",
    "                with open(pth, 'r') as fl:\n",
    "                    o = out[size] = TimeResult(**yaml.safe_load(fl))\n",
    "            else:\n",
    "                sln = solver(z[(nants_redundant*2, nside)], p)\n",
    "\n",
    "                o = out[size] = get_timing(sln)\n",
    "                del sln  # Ensure memory is freed.\n",
    "\n",
    "            print(f\"{o.mean:1.3e}s ± {o.std:1.3e}s [{o.repeats} loops of {o.n}]\")\n",
    "\n",
    "            # Cache it\n",
    "            with open(pth, 'w') as fl:\n",
    "                yaml.dump(asdict(o), fl)\n",
    "            \n",
    "    return out"
   ]
  },
  {
   "cell_type": "code",
   "execution_count": null,
   "id": "65f02230-958d-4d75-9abb-76c5978cb93a",
   "metadata": {},
   "outputs": [],
   "source": [
    "timings = {}"
   ]
  },
  {
   "cell_type": "markdown",
   "id": "a981c9bd-fa7e-4260-b4a2-4c509dd03bf9",
   "metadata": {},
   "source": [
    "## Full Dot-Product Methods"
   ]
  },
  {
   "cell_type": "markdown",
   "id": "76cffc27",
   "metadata": {},
   "source": [
    "### CPU"
   ]
  },
  {
   "cell_type": "markdown",
   "id": "600df1cd",
   "metadata": {},
   "source": [
    "#### np.dot"
   ]
  },
  {
   "cell_type": "code",
   "execution_count": null,
   "id": "b859bdb0-9d6e-486b-a247-049c25e3f2c9",
   "metadata": {},
   "outputs": [],
   "source": [
    "class NpDot(Solver):\n",
    "    def compute(self):\n",
    "        return np.dot(self.z, self.z.conj().T)"
   ]
  },
  {
   "cell_type": "code",
   "execution_count": null,
   "id": "a75dfb83-f390-47f4-a04a-3faa27f0db24",
   "metadata": {},
   "outputs": [],
   "source": [
    "timings['np.dot'] = get_timings(NpDot, rerun=True)"
   ]
  },
  {
   "cell_type": "markdown",
   "id": "ece92a57",
   "metadata": {},
   "source": [
    "#### zgemm"
   ]
  },
  {
   "cell_type": "code",
   "execution_count": null,
   "id": "600b4875-b401-4a4e-8143-a7d7a3767359",
   "metadata": {},
   "outputs": [],
   "source": [
    "class NpZgemm(Solver):\n",
    "    def compute(self):\n",
    "        return blas.zgemm(alpha=1, a=self.z, b=self.z.conj(), trans_b=True)"
   ]
  },
  {
   "cell_type": "code",
   "execution_count": null,
   "id": "a24fd6ff-6a74-4755-b5a8-52703452a73d",
   "metadata": {},
   "outputs": [],
   "source": [
    "timings['np.zgemm'] = get_timings(NpZgemm)"
   ]
  },
  {
   "cell_type": "markdown",
   "id": "160dc508",
   "metadata": {},
   "source": [
    "#### zherk"
   ]
  },
  {
   "cell_type": "code",
   "execution_count": null,
   "id": "fed2f857-4570-40e3-a8b3-3b1250a73d3a",
   "metadata": {},
   "outputs": [],
   "source": [
    "class NpZherk(Solver):\n",
    "    def compute(self):\n",
    "        return blas.zherk(alpha=1, a=self.z)"
   ]
  },
  {
   "cell_type": "code",
   "execution_count": null,
   "id": "d3e78c7d-2b07-425d-a829-d69e59fbbc2d",
   "metadata": {},
   "outputs": [],
   "source": [
    "timings['np.zherk'] = get_timings(NpZherk)"
   ]
  },
  {
   "cell_type": "code",
   "execution_count": null,
   "id": "b0090363-f235-4890-a2da-181be2852031",
   "metadata": {},
   "outputs": [],
   "source": [
    "fig, ax = plot_timings(timings)\n",
    "fig.suptitle(\"CPU Timings\");"
   ]
  },
  {
   "cell_type": "markdown",
   "id": "3bc7799e",
   "metadata": {},
   "source": [
    "### CuBLAS"
   ]
  },
  {
   "cell_type": "markdown",
   "id": "51b8caf5",
   "metadata": {},
   "source": [
    "#### cublas.zgemm"
   ]
  },
  {
   "cell_type": "code",
   "execution_count": null,
   "id": "5ad23c8f",
   "metadata": {
    "ExecuteTime": {
     "end_time": "2023-03-11T20:45:55.353128Z",
     "start_time": "2023-03-11T20:45:55.345190Z"
    }
   },
   "outputs": [],
   "source": [
    "class CuBLASZgemm(Solver):\n",
    "    def setup(self):\n",
    "        self.z = gpuarray.to_gpu(self._z)\n",
    "        nant = self.z.shape[0]\n",
    "        self.out = gpuarray.empty(shape=(nant, nant), dtype=ctype)\n",
    "\n",
    "    def compute(self):\n",
    "        nant, nsrc = self.z.shape\n",
    "\n",
    "        cublas_gemm(\n",
    "            h,\n",
    "            \"c\",  # conjugate transpose for first (remember fortran order)\n",
    "            \"n\",  # no transpose for second.\n",
    "            nant,\n",
    "            nant,\n",
    "            nsrc,\n",
    "            1.0,\n",
    "            self.z.gpudata,\n",
    "            nsrc,\n",
    "            self.z.gpudata,\n",
    "            nsrc,\n",
    "            0.0,\n",
    "            self.out.gpudata,\n",
    "            nant,\n",
    "        )\n",
    "        return self.out.get()"
   ]
  },
  {
   "cell_type": "code",
   "execution_count": null,
   "id": "6d949ca9-03cc-4834-9099-fd0ba78e30ed",
   "metadata": {},
   "outputs": [],
   "source": [
    "if HAVE_PYCUDA:\n",
    "    timings['cublas.zgemm'] = get_timings(CuBLASZgemm)"
   ]
  },
  {
   "cell_type": "markdown",
   "id": "eca36052",
   "metadata": {},
   "source": [
    "#### cublas.zherk"
   ]
  },
  {
   "cell_type": "code",
   "execution_count": null,
   "id": "c5653094-e1b5-4391-baa2-b66cea7bc0de",
   "metadata": {},
   "outputs": [],
   "source": [
    "class CuBLASZherk(CuBLASZgemm):\n",
    "    def compute(self):\n",
    "        nant, nsrc = self.z.shape\n",
    "\n",
    "        cublas_herk(\n",
    "            h,\n",
    "            uplo=\"L\",\n",
    "            trans='c',\n",
    "            n=nant,\n",
    "            k=nsrc,\n",
    "            alpha=1.0,\n",
    "            A=self.z.gpudata,\n",
    "            lda=nsrc,\n",
    "            beta=0.0,\n",
    "            C=self.out.gpudata,\n",
    "            ldc=nant\n",
    "        )\n",
    "        return self.out.get()"
   ]
  },
  {
   "cell_type": "code",
   "execution_count": null,
   "id": "4767df58-a497-4be7-8eba-7f1e421d64e5",
   "metadata": {},
   "outputs": [],
   "source": [
    "if HAVE_PYCUDA:\n",
    "    timings['cublas.zherk'] = get_timings(CuBLASZherk)"
   ]
  },
  {
   "cell_type": "markdown",
   "id": "1713c876-b220-4ea0-a6f6-eba42fe1aa14",
   "metadata": {},
   "source": [
    "### JAX"
   ]
  },
  {
   "cell_type": "code",
   "execution_count": null,
   "id": "664c1c20-87da-491f-9391-6b56bdb39aae",
   "metadata": {},
   "outputs": [],
   "source": [
    "if HAVE_JAX:\n",
    "    import jax\n",
    "    from jax import config\n",
    "\n",
    "    if precision==2:\n",
    "        config.update('jax_enable_x64',True)"
   ]
  },
  {
   "cell_type": "code",
   "execution_count": null,
   "id": "2a21ab0e-21f4-4c83-a6c8-cb6f40bb9b11",
   "metadata": {},
   "outputs": [],
   "source": [
    "class JAXdot(Solver):\n",
    "    def setup(self):\n",
    "        self.z = jax.device_put(self._z)\n",
    "    \n",
    "    def compute(self):        \n",
    "        out = jnp.dot(self.z, self.z.T.conj(), precision=jax.lax.Precision.HIGHEST)\n",
    "        return jax.device_get(out)"
   ]
  },
  {
   "cell_type": "code",
   "execution_count": null,
   "id": "52c8626a-4375-4b87-adc8-a01987c03237",
   "metadata": {},
   "outputs": [],
   "source": [
    "if HAVE_JAX:\n",
    "    timings['jax.dot'] = get_timings(JAXdot)"
   ]
  },
  {
   "cell_type": "markdown",
   "id": "9f266948-9ca7-418f-a9a7-382defd5c8ab",
   "metadata": {},
   "source": [
    "### ArrayFire"
   ]
  },
  {
   "cell_type": "markdown",
   "id": "497b60e1-0b51-4419-8918-1a48cb8be7e2",
   "metadata": {},
   "source": [
    "There's something weird about how arrayfire stores arrays in memory so that you NEED to use the transpose shape for the array to make sense, but then of course if you go BACK to numpy arrays on cpu, they're the transpose of the original. I've tested passing in pre-transposed data and computing the GEMM and it takes essentially the same amount of time."
   ]
  },
  {
   "cell_type": "code",
   "execution_count": null,
   "id": "e2b39e53-89ba-446b-85f8-6f90042c0424",
   "metadata": {},
   "outputs": [],
   "source": [
    "class ArrayFireGemm(Solver):\n",
    "    def setup(self):\n",
    "        self.out = arrayfire.Array(dtype=self._z.dtype.char, dims=(self._z.shape[0], self._z.shape[0]))\n",
    "        self.z = arrayfire.from_ndarray(self._z)\n",
    "        \n",
    "    def compute(self):\n",
    "        return arrayfire.blas.gemm(\n",
    "            self.z, self.z, lhs_opts=arrayfire.MATPROP.NONE, rhs_opts=arrayfire.MATPROP.CTRANS, C=self.out\n",
    "        )"
   ]
  },
  {
   "cell_type": "code",
   "execution_count": null,
   "id": "3eb9f38b-0bbc-4ce0-8a14-cec38c271789",
   "metadata": {},
   "outputs": [],
   "source": [
    "if HAVE_AF:\n",
    "    timings['af.gemm'] = get_timings(ArrayFireGemm)"
   ]
  },
  {
   "cell_type": "markdown",
   "id": "1d304566",
   "metadata": {},
   "source": [
    "## Redundant Baseline Methods"
   ]
  },
  {
   "cell_type": "markdown",
   "id": "5407c1ff",
   "metadata": {},
   "source": [
    "Say that we have different subsets of baselines that should actually be \"used\". Let's see how long different methods take there..."
   ]
  },
  {
   "cell_type": "code",
   "execution_count": null,
   "id": "d45ab3dc",
   "metadata": {
    "ExecuteTime": {
     "end_time": "2023-03-11T23:59:49.510072Z",
     "start_time": "2023-03-11T23:59:49.476499Z"
    }
   },
   "outputs": [],
   "source": [
    "allpairs = np.array([(0,0)] + [(a, b) for a in range(nants_redundant*2) for b in range(a+1, nants_redundant*2)])\n",
    "\n",
    "pairs = {}\n",
    "pairfracs = [3, 10, 25, 50]\n",
    "\n",
    "for pc in pairfracs:\n",
    "    pairs[pc] = allpairs[np.sort(np.random.choice(np.arange(len(allpairs)), size=int(len(allpairs)*pc/100), replace=False))]"
   ]
  },
  {
   "cell_type": "code",
   "execution_count": null,
   "id": "2df81e33-8c05-443b-bd40-133d5d3e35f9",
   "metadata": {},
   "outputs": [],
   "source": [
    "def plot_timings_reds(red_timings: dict[str, dict[tuple[int, int], TimeResult]], \n",
    "                      timings: dict[str, dict[tuple[int, int], TimeResult]]):\n",
    "    fig, ax = plt.subplots(1, 1, figsize=(15, 8), constrained_layout=True)\n",
    "        \n",
    "    for j, (method, results) in enumerate(timings.items()):\n",
    "        ax.plot(nsrcs, [results[(nants_redundant*2, n)].best for n in nsides], color=f'C{j}', label=method)\n",
    "        \n",
    "    for j, (method, results) in enumerate(red_timings.items(), start=len(timings)):\n",
    "        for k, frac in enumerate(pairfracs):\n",
    "            ax.plot(\n",
    "                nsrcs, [results[(frac, n)].best for n in nsides], \n",
    "                color=f'C{j%10}', ls=[':', '--', '-.', (0, (3, 5, 1, 5, 1, 5))][k], \n",
    "                label=f\"{method} ({frac}% red.)\"\n",
    "            )\n",
    "        \n",
    "    ax.set_title(f\"Nant x Nfeed={nant}\")\n",
    "    ax.set_xlabel(\"nsrc\")\n",
    "    ax.set_xscale('log')\n",
    "    ax.set_yscale('log')\n",
    "    #ax.plot(nsrcs, np.array(nsrcs) * (results[(350, np.max(nsrcs))].best/np.max(nsrcs)), ls='--', color='k')\n",
    "\n",
    "    ax.legend(frameon=False, ncols=3)\n",
    "    return fig, ax"
   ]
  },
  {
   "cell_type": "code",
   "execution_count": null,
   "id": "76b2a1d1-10a7-4c52-b020-f790dfddfed4",
   "metadata": {},
   "outputs": [],
   "source": [
    "timings_reds = {}"
   ]
  },
  {
   "cell_type": "markdown",
   "id": "353c44f6-9836-4a62-989a-40bc8a0ac473",
   "metadata": {},
   "source": [
    "### Custom Kernel"
   ]
  },
  {
   "cell_type": "code",
   "execution_count": null,
   "id": "b47cfbc4-ca67-41bd-ba88-1f610c235db6",
   "metadata": {},
   "outputs": [],
   "source": [
    "multiply_and_sum_kernel = \"\"\"\n",
    "// CUDA code for computing V_ij = Z_i Z_j^*\n",
    "\n",
    "// ========== Template Parameters =========\n",
    "// This code is actually a Jinja template, which can use the following parameters. They\n",
    "// appear in double curly braces, eg. {{ DTYPE }}. They get substituted before compilation.\n",
    "//\n",
    "// DTYPE    : float or double\n",
    "// CDTYPE   : cuFloatComplex or cuDoubleComplex\n",
    "// BLOCK_PX : # of sky pixels handled by one GPU block, used to size shared memory\n",
    "// NANT     : # of antennas to pair into visibilities\n",
    "// NPIX     : # of sky pixels to sum over.\n",
    "// NAX      : # of E-field axes in the beam\n",
    "// NFEED    : # of feeds in the beam\n",
    "// -------------------------------------------------------------------------------------\n",
    "\n",
    "#include <cuComplex.h>\n",
    "#include <pycuda-helpers.hpp>\n",
    "#include <stdio.h>\n",
    "\n",
    "__global__ void MultiplyAndSum(\n",
    "    {{ CDTYPE }} *Z,\n",
    "    int *ant1_array,\n",
    "    int *ant2_array,\n",
    "    uint nsrc,\n",
    "    {{ CDTYPE }} *v\n",
    "){\n",
    "    const uint nax  = {{ NAX }};\n",
    "    const uint nfeed= {{ NFEED }};\n",
    "    const uint nant = {{ NANT }};\n",
    "    const uint nbl  = {{ NBL }};\n",
    "    \n",
    "    // Z should have shape (NFEED x NANT x NSRC x NAX)\n",
    "    // with NFEED = NAX = 2,\n",
    "    //      NANT ~300\n",
    "    //      NSRC ~5e6.\n",
    "    // Output V is (NFEED x NFEED x NBL) and is gotten by taking FEED and ANT1 and ANT2, \n",
    "    // multiplying Z[FEED, ANT1] * Z[FEED, ANT2].conj() then summing over all SRC and AX. \n",
    "    // ANT1 and ANT2 are length NBL, where NBL < NANT*(NANT + 1) / 2. \n",
    "    \n",
    "    // We expect a GPU to have ~2048 threads available (eg. the V100). In this naive implementation,\n",
    "    // each thread will correspond to a FEED/BL. This will mean that it will have about the same\n",
    "    // speed as NBL grows, up to 2048, then it will halve in speed, etc.\n",
    "    \n",
    "    const uint bl    = blockIdx.x * blockDim.x + threadIdx.x;  \n",
    "    const uint feed1 = blockIdx.y * blockDim.y + threadIdx.y; // goes up to 2\n",
    "    const uint feed2 = blockIdx.z * blockDim.z + threadIdx.z; // goes up to 2\n",
    "    \n",
    "    // later, think of some work these guys could do.\n",
    "    if (bl >= nbl || feed1 >= nfeed || feed2 >= nfeed) return;\n",
    "\n",
    "    uint ant1 = ant1_array[bl];\n",
    "    uint ant2 = ant2_array[bl];\n",
    "\n",
    "    {{ CDTYPE }} temp = make_{{ CDTYPE }}(0, 0);\n",
    "    \n",
    "    for (int i = 0; i < nsrc*nax; i += 1){\n",
    "        int idx1 = i + ant1*nsrc*nax + feed1*nsrc*nax*nant;\n",
    "        int idx2 = i + ant2*nsrc*nax + feed2*nsrc*nax*nant;\n",
    "        \n",
    "        temp = cuCadd(temp, cuCmul(Z[idx1], cuConj(Z[idx2])));\n",
    "    }\n",
    "    \n",
    "    v[bl*nfeed*nfeed + feed1*nfeed + feed2] = temp;\n",
    "    \n",
    "    __syncthreads(); // make sure everyone used mem before kicking out\n",
    "}\n",
    "\"\"\""
   ]
  },
  {
   "cell_type": "code",
   "execution_count": null,
   "id": "5de673ca-b70c-4dcd-8eec-fedf556ac1e9",
   "metadata": {},
   "outputs": [],
   "source": [
    "# if HAVE_PYCUDA:\n",
    "#     from jinja2 import Template\n",
    "#     from pycuda import compiler\n",
    "\n",
    "#     VisProduct = Template(multiply_and_sum_kernel)\n",
    "\n",
    "#     cuda_params = {\n",
    "#         \"NANT\": 50,\n",
    "#         \"NAX\": 1,\n",
    "#         \"NFEED\": 1,\n",
    "#         \"NBEAM\": 1,\n",
    "#         \"DTYPE\": \"double\",\n",
    "#         \"CDTYPE\": \"cuDoubleComplex\",\n",
    "#         \"NBL\": 2500,\n",
    "#         # \"f\": \"f\" if precision == 1 else \"\",\n",
    "#     }\n",
    "\n",
    "#     vis_product = VisProduct.render(**cuda_params)\n",
    "#     vis_product_module = compiler.SourceModule(vis_product)\n",
    "#     mult_and_sum = vis_product_module.get_function(\"MultiplyAndSum\")\n",
    "\n",
    "    # ant1 = gpuarray.to_gpu(np.tile(np.arange(50), 50))\n",
    "    # ant2 = gpuarray.to_gpu(np.repeat(np.arange(50), 50))\n",
    "\n",
    "    # out = gpuarray.empty(2500, dtype=np.complex128)\n",
    "    # zz = gpuarray.to_gpu(z0)\n",
    "\n",
    "    # mult_and_sum(\n",
    "    #     zz.gpudata,\n",
    "    #     ant1.gpudata,\n",
    "    #     ant2.gpudata,\n",
    "    #     np.uint(10000),\n",
    "    #     out.gpudata,\n",
    "    #     block=(512, 1, 1),\n",
    "    #     grid=(20, 1, 1)\n",
    "    # )\n",
    "\n",
    "    # np.max(np.abs(out.get().reshape((50,50))-v0))"
   ]
  },
  {
   "cell_type": "markdown",
   "id": "c4564350-a052-45ab-ad5a-aa34855e11a9",
   "metadata": {},
   "source": [
    "### Dumb Loop CuBLAS"
   ]
  },
  {
   "cell_type": "code",
   "execution_count": null,
   "id": "1c0bb3a2-1956-4b31-86bd-5a63061c391f",
   "metadata": {},
   "outputs": [],
   "source": [
    "class SingleLoopCuBLAS(RedundantSolver):\n",
    "    def setup(self):\n",
    "        self.z = gpuarray.to_gpu(self._z)\n",
    "        self.out = gpuarray.empty(self.pairs.shape[0], dtype=ctype)\n",
    "        \n",
    "    def compute(self):        \n",
    "        size = self.z.shape[1]\n",
    "\n",
    "        for i, (a, b) in enumerate(self.pairs):\n",
    "            self.out[i] = cublas_dotc(h, size, self.z[b].gpudata, 1, self.z[a].gpudata, 1)\n",
    "\n",
    "        return self.out.get()"
   ]
  },
  {
   "cell_type": "code",
   "execution_count": null,
   "id": "80b93732-b374-4db9-b933-a77eda975ad7",
   "metadata": {},
   "outputs": [],
   "source": [
    "if HAVE_PYCUDA:\n",
    "    timings_reds['cublas.singleloop'] = get_timings_red(SingleLoopCuBLAS)"
   ]
  },
  {
   "cell_type": "markdown",
   "id": "7659d02d-78f5-43bf-92d8-9847e8950d89",
   "metadata": {},
   "source": [
    "### Dumb Loop njit"
   ]
  },
  {
   "cell_type": "code",
   "execution_count": null,
   "id": "4108942c-7fcd-400d-abd3-878e688a3ed8",
   "metadata": {},
   "outputs": [],
   "source": [
    "if HAVE_NUMBA:\n",
    "    @numba.njit\n",
    "    def _dumbloopjit(z, pairs, out):\n",
    "        zc = z.conj()\n",
    "        for i, (a, b) in enumerate(pairs):\n",
    "            out[i] = np.dot(z[a], zc[b])\n",
    "\n",
    "    class SingleLoopNumba(RedundantSolver):\n",
    "        def setup(self):\n",
    "            self.out = np.empty(len(self.pairs), dtype=ctype)\n",
    "            \n",
    "        def compute(self):\n",
    "            _dumbloopjit(self.z, self.pairs, self.out)\n",
    "            return self.out\n"
   ]
  },
  {
   "cell_type": "code",
   "execution_count": null,
   "id": "c8a4ba4f-d586-4a63-ae90-7e8bc3f82925",
   "metadata": {},
   "outputs": [],
   "source": [
    "if HAVE_NUMBA:\n",
    "    timings_reds['numba.singleloop'] = get_timings_red(SingleLoopNumba)"
   ]
  },
  {
   "cell_type": "markdown",
   "id": "b98ffb9e-d159-43f0-8b0b-9a3933217f7c",
   "metadata": {},
   "source": [
    "### Chunked Loop (JAX)"
   ]
  },
  {
   "cell_type": "code",
   "execution_count": null,
   "id": "50447a2d-7b7d-4d61-8c1e-c593765849ef",
   "metadata": {},
   "outputs": [],
   "source": [
    "class ChunkedLoopJAX(RedundantSolver):\n",
    "    chunksize = 350\n",
    "    \n",
    "    def setup(self):\n",
    "        self.z = jax.device_put(self.z)\n",
    "        self.ant1 = jax.device_put(self.pairs[:, 0])\n",
    "        self.ant2 = jax.device_put(self.pairs[:, 1])\n",
    "        self.out = jnp.empty(len(self.ant1), dtype=ctype)\n",
    "        \n",
    "    def compute(self):\n",
    "        nchunks = len(self.ant1) // self.chunksize\n",
    "\n",
    "        def doslc(slc):\n",
    "            s1 = self.z[self.ant1[slc]]\n",
    "            s2 = self.z[self.ant2[slc]]\n",
    "            s1 *= s2.conj()\n",
    "            sm = jnp.sum(s1, axis=1)\n",
    "            self.out = self.out.at[slc].set(sm)\n",
    "\n",
    "        for chunk in range(nchunks):\n",
    "            slc = slice(chunk*self.chunksize, (chunk+1)*self.chunksize)\n",
    "            doslc(slc)\n",
    "\n",
    "        if len(self.ant1) % self.chunksize:\n",
    "            slc = slice((chunk+1)*self.chunksize, None)\n",
    "            doslc(slc)\n",
    "\n",
    "        return jax.device_get(self.out)\n"
   ]
  },
  {
   "cell_type": "code",
   "execution_count": null,
   "id": "e86bfe3c-e4f3-4abd-b23d-b3be5a4c517f",
   "metadata": {},
   "outputs": [],
   "source": [
    "if HAVE_JAX:\n",
    "    timings_reds['jax.chunkedloop'] = get_timings_red(ChunkedLoopJAX)"
   ]
  },
  {
   "cell_type": "markdown",
   "id": "b0386649-67b2-42fa-b78f-c609985e4351",
   "metadata": {},
   "source": [
    "### Redundant Plot"
   ]
  },
  {
   "cell_type": "code",
   "execution_count": null,
   "id": "80bf6e17-b7aa-4d14-b180-632be242b676",
   "metadata": {},
   "outputs": [],
   "source": [
    "plot_timings_reds(timings_reds, timings);"
   ]
  },
  {
   "cell_type": "code",
   "execution_count": null,
   "id": "433cdfe8-581a-4706-a605-dbe735f05803",
   "metadata": {},
   "outputs": [],
   "source": []
  }
 ],
 "metadata": {
  "kernelspec": {
   "display_name": "hera-gpu",
   "language": "python",
   "name": "python3"
  },
  "language_info": {
   "codemirror_mode": {
    "name": "ipython",
    "version": 3
   },
   "file_extension": ".py",
   "mimetype": "text/x-python",
   "name": "python",
   "nbconvert_exporter": "python",
   "pygments_lexer": "ipython3",
   "version": "3.10.4"
  },
  "latex_envs": {
   "LaTeX_envs_menu_present": true,
   "autoclose": true,
   "autocomplete": false,
   "bibliofile": "biblio.bib",
   "cite_by": "apalike",
   "current_citInitial": 1,
   "eqLabelWithNumbers": true,
   "eqNumInitial": 1,
   "hotkeys": {
    "equation": "Ctrl-E",
    "itemize": "Ctrl-I"
   },
   "labels_anchors": false,
   "latex_user_defs": false,
   "report_style_numbering": false,
   "user_envs_cfg": false
  },
  "toc": {
   "base_numbering": 1,
   "nav_menu": {},
   "number_sections": true,
   "sideBar": true,
   "skip_h1_title": false,
   "title_cell": "Table of Contents",
   "title_sidebar": "Contents",
   "toc_cell": false,
   "toc_position": {},
   "toc_section_display": true,
   "toc_window_display": false
  }
 },
 "nbformat": 4,
 "nbformat_minor": 5
}
